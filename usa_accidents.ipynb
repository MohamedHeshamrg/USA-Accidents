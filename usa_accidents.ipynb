{
 "cells": [
  {
   "cell_type": "code",
   "execution_count": 1,
   "id": "b58bfd6b-1838-4ddf-8397-175bc090a09d",
   "metadata": {},
   "outputs": [],
   "source": [
    "# import libraries\n",
    "import pandas as pd\n",
    "import numpy as np\n",
    "from sklearn.impute import SimpleImputer\n",
    "from datasist.structdata import detect_outliers\n",
    "\n",
    "import plotly.express as px\n",
    "from plotly.subplots import make_subplots\n",
    "import plotly.io as pio\n",
    "\n",
    "import seaborn as sns\n",
    "import matplotlib.pyplot as plt\n",
    "\n",
    "\n",
    "pio.templates.default = \"plotly_dark\"\n",
    "sns.set(rc={'figure.figsize': [10,10]}, font_scale=1.3)\n",
    "\n"
   ]
  },
  {
   "cell_type": "markdown",
   "id": "9f5f54dd-e3ea-4005-8079-a0fef0f7d269",
   "metadata": {},
   "source": [
    "# Dataset abbrevations:\n",
    "\n",
    "1-ID - This is a unique identifier of the accident record.\n",
    "\n",
    "2-Severity - Shows the severity of the accident, a number between 1 and 4, where 1 indicates the least impact on traffic (i.e., short delay as a result of the accident) and 4 indicates a significant impact on traffic (i.e., long delay).\n",
    "\n",
    "3-Start_Time - Shows start time of the accident in local time zone.\n",
    "\n",
    "4-End_Time - Shows end time of the accident in local time zone. End time here refers to when the impact of accident on traffic flow\n",
    "\n",
    "5-Start_Lat - Shows latitude in GPS coordinate of the start point.\n",
    "\n",
    "6-Start_Lng - Shows longitude in GPS coordinate of the start point.\n",
    "\n",
    "7-Distance(mi) - The length of the road extent affected by the accident.\n",
    "\n",
    "8-Description - Shows natural language description of the accident.\n",
    "\n",
    "9-Number - Shows the street number in address record.\n",
    "\n",
    "10-Street - Shows the street name in address record.\n",
    "\n",
    "11-Side - Shows the relative side of the street (Right/Left) in address record.\n",
    "\n",
    "12-City - Shows the city in address record.\n",
    "\n",
    "13-County - Shows the county in address record.\n",
    "\n",
    "14-State - Shows the state in address record.\n",
    "\n",
    "15-Country - Shows the country in address record.\n",
    "\n",
    "16-Timezone - Shows timezone based on the location of the accident (eastern, central, etc.)\n",
    "\n",
    "17-Temperature(F) - Shows the temperature (in Fahrenheit).\n",
    "\n",
    "18-Wind_Chill(F) - Shows the wind chill (in Fahrenheit).\n",
    "\n",
    "19-Humidity(%) - Shows the humidity (in percentage).\n",
    "\n",
    "20-Pressure(in) - Shows the air pressure (in inches).\n",
    "\n",
    "21-Visibility(mi) - Shows visibility (in miles).\n",
    "\n",
    "22-Wind_Direction - Shows wind direction.\n",
    "\n",
    "23-Wind_Speed(mph) - Shows wind speed (in miles per hour).\n",
    "\n",
    "24-Precipitation(in) - Shows precipitation amount in inches, if there is any.\n",
    "\n",
    "25-Weather_Condition - Shows the weather condition (rain, snow, thunderstorm, fog, etc.)\n",
    "\n",
    "26-Amenity - A POI annotation which indicates presence of amenity in a nearby location.\n",
    "\n",
    "27-Bump - A POI annotation which indicates presence of speed bump or hump in a nearby location.\n",
    "\n",
    "28-Crossing - A POI annotation which indicates presence of crossing in a nearby location.\n",
    "\n",
    "29-Give_Way - A POI annotation which indicates presence of give_way in a nearby location.\n",
    "\n",
    "30-Junction - A POI annotation which indicates presence of junction in a nearby location.\n",
    "\n",
    "31-No_Exit - A POI annotation which indicates presence of junction in a nearby location.\n",
    "\n",
    "32-Railway - A POI annotation which indicates presence of railway in a nearby location.\n",
    "\n",
    "33-Roundabout - A POI annotation which indicates presence of roundabout in a nearby location.\n",
    "\n",
    "34-Station - A POI annotation which indicates presence of station in a nearby location.\n",
    "\n",
    "35-Stop - A POI annotation which indicates presence of stop in a nearby location.\n",
    "\n",
    "36-Traffic_Calming - A POI annotation which indicates presence of traffic_calming in a nearby location.\n",
    "\n",
    "37-Traffic_Signal - A POI annotation which indicates presence of traffic_signal in a nearby location.\n",
    "\n",
    "38-Turning_Loop - A POI annotation which indicates presence of turning_loop in a nearby location.\n",
    "\n",
    "39-Sunrise_Sunset - Shows the period of day (i.e. day or night) based on sunrise/sunset.\n",
    "\n",
    "40-Civil_Twilight - Shows the period of day (i.e. day or night) based on civil twilight.\n",
    "\n",
    "41-Nautical_Twilight - Shows the period of day (i.e. day or night) based on nautical twilight.\n",
    "\n",
    "42-Astronomical_Twilight - Shows the period of day (i.e. day or night) based on astronomical twilight."
   ]
  },
  {
   "cell_type": "markdown",
   "id": "9cf15c7f-80e9-436f-83f0-0ee901974c82",
   "metadata": {},
   "source": [
    " # Some Questhions :\n",
    "\n",
    "\n",
    " 1 - Which state has the most accidents and Why ?\n",
    "\n",
    "\n",
    " 2 - Are there specific months or seasons with higher accident rates?\n",
    "\n",
    "\n",
    " 3 - What factors contribute most to severe accidents?\n",
    "\n",
    "\n",
    " 4 - Are there trends over the years (e.g., increasing or decreasing accident rates)?\n",
    " "
   ]
  },
  {
   "cell_type": "code",
   "execution_count": 2,
   "id": "8243a4f6-5710-4f34-9d46-b2efad4b6b55",
   "metadata": {},
   "outputs": [],
   "source": [
    "# read the dataset\n",
    "df = pd.read_csv('USA_accidents.csv')"
   ]
  },
  {
   "cell_type": "code",
   "execution_count": null,
   "id": "53aa3bb4-eaf0-4813-8e9a-3d357e6ee60f",
   "metadata": {},
   "outputs": [],
   "source": [
    "df.head()"
   ]
  },
  {
   "cell_type": "code",
   "execution_count": null,
   "id": "a35c3f3f-a067-435b-9a3f-89f3c2dad51a",
   "metadata": {},
   "outputs": [],
   "source": [
    "df.shape"
   ]
  },
  {
   "cell_type": "code",
   "execution_count": null,
   "id": "de3c8c97-9857-450b-8f30-7cd796c3ca2f",
   "metadata": {},
   "outputs": [],
   "source": [
    "df.info()"
   ]
  },
  {
   "cell_type": "markdown",
   "id": "3f3a46c3-5c1a-4d4d-9636-8d0dccd07bec",
   "metadata": {},
   "source": [
    "# Data cleaning"
   ]
  },
  {
   "cell_type": "markdown",
   "id": "5d18c706-92cc-42c3-995a-915d102d398c",
   "metadata": {},
   "source": [
    "### 1- preparation"
   ]
  },
  {
   "cell_type": "code",
   "execution_count": null,
   "id": "4e019425-4993-4056-9e2f-d4b1aff638e0",
   "metadata": {},
   "outputs": [],
   "source": [
    "df.columns"
   ]
  },
  {
   "cell_type": "code",
   "execution_count": null,
   "id": "d7697ce9-5408-4aee-8482-20b6ac659bf0",
   "metadata": {},
   "outputs": [],
   "source": [
    "df.columns = df.columns.str.lower()\n",
    "df.columns"
   ]
  },
  {
   "cell_type": "code",
   "execution_count": null,
   "id": "f60a40cc-ece9-4332-ad27-b866dfbcc570",
   "metadata": {},
   "outputs": [],
   "source": [
    "# check the duplicates\n",
    "duplicates = df.duplicated().sum()\n",
    "print(f\"The duplicates row = {duplicates} \")"
   ]
  },
  {
   "cell_type": "markdown",
   "id": "80d17afb",
   "metadata": {},
   "source": [
    "### 2- Missing Values"
   ]
  },
  {
   "cell_type": "code",
   "execution_count": null,
   "id": "5acdca76-722e-4d0f-86ee-a2332828d751",
   "metadata": {},
   "outputs": [],
   "source": [
    "# check missing values\n",
    "missing_values =  (df.isna().sum().sort_values(ascending = False) / len(df)) *100\n",
    "missing_values = pd.DataFrame(missing_values).reset_index()\n",
    "missing_values.rename(columns = {'index':'columns', 0 : 'Percentages_of_missing'},inplace = True)\n",
    "missing_values"
   ]
  },
  {
   "cell_type": "code",
   "execution_count": null,
   "id": "918176e1-1c5e-4e61-9565-3f309fa04dc1",
   "metadata": {},
   "outputs": [],
   "source": [
    "px.histogram(missing_values[:20],x = 'Percentages_of_missing',y='columns'\n",
    "             ,height=700,title='Percentages of missing values'\n",
    "             ,color_discrete_sequence= px.colors.sequential.deep )"
   ]
  },
  {
   "cell_type": "code",
   "execution_count": 11,
   "id": "2a59321a-74bc-440e-98dc-2f8ecc109f35",
   "metadata": {},
   "outputs": [],
   "source": [
    "# Fill missing values of numneric columns\n",
    "\n",
    "# drop columns with more than 50% missing values\n",
    "# wind_chill(f) = 57.8\n",
    "# precipitation(in)\t= 63.3\n",
    "droped_columns = missing_values['columns'].iloc[missing_values[missing_values['Percentages_of_missing'] > 50].index]\n",
    "df.drop(columns=droped_columns,inplace=True)"
   ]
  },
  {
   "cell_type": "code",
   "execution_count": 12,
   "id": "681b4a14-b21d-4157-ba92-49a50ade6ac6",
   "metadata": {},
   "outputs": [],
   "source": [
    "# drop unnamed: 0\t\n",
    "df.drop(columns = \"unnamed: 0\",inplace=True)"
   ]
  },
  {
   "cell_type": "code",
   "execution_count": 13,
   "id": "8b4c5e74",
   "metadata": {},
   "outputs": [],
   "source": [
    "# fill missing values in numerical data\n",
    "# num col  = wind_speed(mph),visibility(mi),humidity(%),temperature(f),pressure(in)\t\n",
    "# fill with median\n",
    "imputer= SimpleImputer(strategy='median')\n",
    "df[['pressure(in)','wind_speed(mph)','visibility(mi)','humidity(%)','temperature(f)']]=imputer.fit_transform(df[['pressure(in)','wind_speed(mph)','visibility(mi)','humidity(%)','temperature(f)']])\n"
   ]
  },
  {
   "cell_type": "code",
   "execution_count": null,
   "id": "ed27397b",
   "metadata": {},
   "outputs": [],
   "source": [
    "# the filling values of columns median\n",
    "imputer.statistics_"
   ]
  },
  {
   "cell_type": "code",
   "execution_count": 15,
   "id": "4678d275",
   "metadata": {},
   "outputs": [],
   "source": [
    "# Fill missing values in cat data\n",
    "\n",
    "\n",
    "# cat col = weather_condition,wind_direction , timezone ,astronomical_twilight ,nautical_twilight ,civil_twilight ,sunrise_sunset ,city ,street ,description\n",
    "# fill with mode\n",
    "imputer= SimpleImputer(strategy='most_frequent')\n",
    "df[[\"weather_condition\",\"wind_direction\" , \"timezone\" ,\"astronomical_twilight\" ,\"nautical_twilight\" ,\"civil_twilight\" ,\"sunrise_sunset\" ,\"city\" ,\"street\" ,\"description\"]]=imputer.fit_transform(df[[\"weather_condition\",\"wind_direction\" , \"timezone\" ,\"astronomical_twilight\" ,\"nautical_twilight\" ,\"civil_twilight\" ,\"sunrise_sunset\" ,\"city\" ,\"street\" ,\"description\"]])\n"
   ]
  },
  {
   "cell_type": "code",
   "execution_count": null,
   "id": "da6fc794",
   "metadata": {},
   "outputs": [],
   "source": [
    "# the filling values of columns mode\n",
    "imputer.statistics_"
   ]
  },
  {
   "cell_type": "code",
   "execution_count": null,
   "id": "b1decca4",
   "metadata": {},
   "outputs": [],
   "source": [
    "# check the missing values again\n",
    "df.isna().sum()"
   ]
  },
  {
   "cell_type": "markdown",
   "id": "fd7a8073",
   "metadata": {},
   "source": [
    "### 3- Check the outlier"
   ]
  },
  {
   "cell_type": "code",
   "execution_count": null,
   "id": "31c5b66d",
   "metadata": {},
   "outputs": [],
   "source": [
    "# make numeric_columns to check outlier\n",
    "numeric_columns = df.select_dtypes(include=['number']).columns\n",
    "numeric_columns = numeric_columns.drop('severity')   # severity is cat\n",
    "numeric_columns\n",
    "\n"
   ]
  },
  {
   "cell_type": "code",
   "execution_count": null,
   "id": "4bb7a7df",
   "metadata": {},
   "outputs": [],
   "source": [
    "# Make boxplot to  visualization the outlier\n",
    "\n",
    "# Create a figure and a grid of subplots\n",
    "fig, axes = plt.subplots(nrows=2, ncols=2, figsize=(12, 8))\n",
    "\n",
    "# Plot on each subplot using Seaborn\n",
    "sns.boxplot(x='start_lat', data=df, ax=axes[0, 0])\n",
    "axes[0, 0].set_title('Box Plot:  start_lat')\n",
    "\n",
    "sns.boxplot(x='start_lng', data=df, ax=axes[0, 1])\n",
    "axes[0, 1].set_title('Box Plot: start_lng)')\n",
    "\n",
    "sns.boxplot(x = 'distance(mi)', data=df, ax=axes[1, 0])\n",
    "axes[1, 0].set_title('Box plot: distance(mi)')\n",
    "\n",
    "sns.boxplot(x='wind_speed(mph)', data=df, ax=axes[1, 1])\n",
    "axes[1, 1].set_title('Box Plot: wind_speed(mph)')\n",
    "\n",
    "# Adjust layout to prevent overlapping\n",
    "plt.tight_layout()\n",
    "\n",
    "# Show the plot\n",
    "plt.show()"
   ]
  },
  {
   "cell_type": "code",
   "execution_count": null,
   "id": "30a566b7",
   "metadata": {},
   "outputs": [],
   "source": [
    "# Make boxplot to  visualization the outlier\n",
    "\n",
    "\n",
    "# Create a figure and a grid of subplots\n",
    "fig, axes = plt.subplots(nrows=2, ncols=2, figsize=(12, 8))\n",
    "\n",
    "# Plot on each subplot using Seaborn\n",
    "sns.boxplot(x='pressure(in)', data=df, ax=axes[0, 0])\n",
    "axes[0, 0].set_title('Box Plot:  pressure(in')\n",
    "\n",
    "sns.boxplot(x='humidity(%)', data=df, ax=axes[0, 1])\n",
    "axes[0, 1].set_title('Box Plot: humidity(%)')\n",
    "\n",
    "sns.boxplot(x = 'visibility(mi)', data=df, ax=axes[1, 0])\n",
    "axes[1, 0].set_title('Box plot: visibility(mi)')\n",
    "\n",
    "sns.boxplot(x='temperature(f)', data=df, ax=axes[1, 1])\n",
    "axes[1, 1].set_title('Box Plot: temperature(f)')\n",
    "\n",
    "# Adjust layout to prevent overlapping\n",
    "plt.tight_layout()\n",
    "\n",
    "# Show the plot\n",
    "plt.show()"
   ]
  },
  {
   "cell_type": "code",
   "execution_count": null,
   "id": "9149aabd",
   "metadata": {},
   "outputs": [],
   "source": [
    "# Calculate IQR and identify outliers for each numerical column\n",
    "\n",
    "for col in numeric_columns:\n",
    "    Q1 = df[col].quantile(0.25)\n",
    "    Q3 = df[col].quantile(0.75)\n",
    "    IQR = Q3 - Q1\n",
    "    lower_bound = Q1 - 1.5 * IQR\n",
    "    upper_bound = Q3 + 1.5 * IQR\n",
    "\n",
    "    outliers = df[(df[col] < lower_bound) | (df[col] > upper_bound)]\n",
    "\n",
    "    print(f\"Column: {col}\")\n",
    "    print(f\"Number of outliers: {len(outliers)}\")\n",
    "    print(f'percentage of outlier = {(len(outliers)/len(df))*100}')\n",
    "    print(\"-\" * 20)"
   ]
  },
  {
   "cell_type": "code",
   "execution_count": null,
   "id": "658a7f0b",
   "metadata": {},
   "outputs": [],
   "source": [
    "# drop outliers of columns temperature(f) and wind_speed(mph) \n",
    "\n",
    "outliers_indices = detect_outliers(df, 0, df[['temperature(f)','wind_speed(mph)']])\n",
    "len(outliers_indices)\n"
   ]
  },
  {
   "cell_type": "code",
   "execution_count": 23,
   "id": "4deb5157",
   "metadata": {},
   "outputs": [],
   "source": [
    "df.drop(outliers_indices, inplace=True)\n"
   ]
  },
  {
   "cell_type": "code",
   "execution_count": null,
   "id": "572efdce",
   "metadata": {},
   "outputs": [],
   "source": [
    "# handle outlier values\n",
    "for col in numeric_columns:\n",
    "    Q1 = df[col].quantile(0.25)\n",
    "    Q3 = df[col].quantile(0.75)\n",
    "    IQR = Q3 - Q1\n",
    "    lower_bound = Q1 - 1.5 * IQR\n",
    "    upper_bound = Q3 + 1.5 * IQR\n",
    "    median_value = df[col].median()\n",
    "    mean_value = df[col].mean()\n",
    "    # Replace outliers with the mean and median\n",
    "    df[col] = np.where(df[col] < lower_bound,mean_value, df[col])\n",
    "    df[col] = np.where(df[col] > upper_bound,median_value, df[col])\n",
    "    print(f\"{col} handled !\")\n"
   ]
  },
  {
   "cell_type": "code",
   "execution_count": null,
   "id": "5d232b72",
   "metadata": {},
   "outputs": [],
   "source": [
    "\n",
    "# Create a figure and a grid of subplots\n",
    "fig, axes = plt.subplots(nrows=2, ncols=2, figsize=(12, 8))\n",
    "\n",
    "# Plot on each subplot using Seaborn\n",
    "sns.boxplot(x='start_lat', data=df, ax=axes[0, 0])\n",
    "axes[0, 0].set_title('Box Plot:  start_lat')\n",
    "\n",
    "sns.boxplot(x='start_lng', data=df, ax=axes[0, 1])\n",
    "axes[0, 1].set_title('Box Plot: start_lng')\n",
    "\n",
    "sns.boxplot(x = 'distance(mi)', data=df, ax=axes[1, 0])\n",
    "axes[1, 0].set_title('Box plot: distance(mi)')\n",
    "\n",
    "sns.boxplot(x='wind_speed(mph)', data=df, ax=axes[1, 1])\n",
    "axes[1, 1].set_title('Box Plot: wind_speed(mph)')\n",
    "\n",
    "# Adjust layout to prevent overlapping\n",
    "plt.tight_layout()\n",
    "\n",
    "# Show the plot\n",
    "plt.show()"
   ]
  },
  {
   "cell_type": "code",
   "execution_count": null,
   "id": "9504218c",
   "metadata": {},
   "outputs": [],
   "source": [
    "\n",
    "# Create a figure and a grid of subplots\n",
    "fig, axes = plt.subplots(nrows=2, ncols=2, figsize=(12, 8))\n",
    "\n",
    "# Plot on each subplot using Seaborn\n",
    "sns.boxplot(x='pressure(in)', data=df, ax=axes[0, 0])\n",
    "axes[0, 0].set_title('Box Plot:  pressure(in)')\n",
    "\n",
    "sns.boxplot(x='humidity(%)', data=df, ax=axes[0, 1])\n",
    "axes[0, 1].set_title('Box Plot: humidity(%)')\n",
    "\n",
    "sns.boxplot(x = 'visibility(mi)', data=df, ax=axes[1, 0])\n",
    "axes[1, 0].set_title('Box plot: visibility(mi)')\n",
    "\n",
    "sns.boxplot(x='temperature(f)', data=df, ax=axes[1, 1])\n",
    "axes[1, 1].set_title('Box Plot: temperature(f)')\n",
    "\n",
    "# Adjust layout to prevent overlapping\n",
    "plt.tight_layout()\n",
    "\n",
    "# Show the plot\n",
    "plt.show()"
   ]
  },
  {
   "cell_type": "markdown",
   "id": "093cea59",
   "metadata": {},
   "source": [
    "### 4- handle date time data"
   ]
  },
  {
   "cell_type": "code",
   "execution_count": null,
   "id": "7aa4e383",
   "metadata": {},
   "outputs": [],
   "source": [
    "df.drop(columns = 'end_time',inplace=True) # drop end_time columns\n",
    "df['start_time'] = pd.to_datetime(df['start_time'],format='mixed') # change start_time type to datetime64\n",
    "\n",
    "df['year'] = df.start_time.dt.year # make year column from start time\n",
    "df['month'] = df.start_time.dt.month # make month column from start time\n",
    "df['day'] = df.start_time.dt.day # make day column from start time\n",
    "df['day_name'] = df.start_time.dt.day_name() # make day_name column from start time\n",
    "df['hour'] = df.start_time.dt.hour # make year column from start time\n",
    "df"
   ]
  },
  {
   "cell_type": "code",
   "execution_count": 28,
   "id": "84c2d556",
   "metadata": {},
   "outputs": [],
   "source": [
    "# make season columns \n",
    "def get_season(month): # function to determaind the season\n",
    "    \n",
    "    if month in [12, 1, 2]:\n",
    "        return 'Winter'\n",
    "    elif month in [3, 4, 5]:\n",
    "        return 'Spring'\n",
    "    elif month in [6, 7, 8]:\n",
    "        return 'Summer'\n",
    "    elif month in [9, 10, 11]:\n",
    "        return 'Autumn'\n"
   ]
  },
  {
   "cell_type": "code",
   "execution_count": null,
   "id": "5227ae2b",
   "metadata": {},
   "outputs": [],
   "source": [
    "df['season'] = df['month'].apply(get_season) # apply the function \n",
    "df['season']"
   ]
  },
  {
   "cell_type": "markdown",
   "id": "98e5eb14",
   "metadata": {},
   "source": [
    "# Exploratory Analysis and Visualization"
   ]
  },
  {
   "cell_type": "markdown",
   "id": "1637bc3c",
   "metadata": {},
   "source": [
    "## 1.Univariate Analysis"
   ]
  },
  {
   "cell_type": "code",
   "execution_count": null,
   "id": "9b8839f9",
   "metadata": {},
   "outputs": [],
   "source": [
    "# describe num columns\n",
    "df.describe().T"
   ]
  },
  {
   "cell_type": "code",
   "execution_count": null,
   "id": "2a8db30f",
   "metadata": {},
   "outputs": [],
   "source": [
    "# describe cat columns\n",
    "df.describe(include='O').T"
   ]
  },
  {
   "cell_type": "markdown",
   "id": "ce388d3a",
   "metadata": {},
   "source": [
    "### - Count of incidents per 'city', 'state', 'county' and 'street"
   ]
  },
  {
   "cell_type": "code",
   "execution_count": 32,
   "id": "990f83ad",
   "metadata": {},
   "outputs": [],
   "source": [
    "# function to make datafram of columns and make bar analysis\n",
    "def show_fig(col) :\n",
    "    data_accident = df[col].value_counts()\n",
    "    data_accident = pd.DataFrame(data_accident)\n",
    "    data_accident.reset_index(inplace=True)\n",
    "    fig = px.bar(data_accident[:15],y=col, x = 'count'\n",
    "                ,color_discrete_sequence= px.colors.sequential.deep)\n",
    "    fig.show()"
   ]
  },
  {
   "cell_type": "code",
   "execution_count": null,
   "id": "21764fba",
   "metadata": {},
   "outputs": [],
   "source": [
    "# count of state accidents\n",
    "show_fig(\"state\")"
   ]
  },
  {
   "cell_type": "code",
   "execution_count": null,
   "id": "1406f4b5",
   "metadata": {},
   "outputs": [],
   "source": [
    "# county\n",
    "show_fig(\"county\")"
   ]
  },
  {
   "cell_type": "code",
   "execution_count": null,
   "id": "5bd96a4f",
   "metadata": {},
   "outputs": [],
   "source": [
    "# street\n",
    "show_fig(\"street\")"
   ]
  },
  {
   "cell_type": "code",
   "execution_count": null,
   "id": "f466559a",
   "metadata": {},
   "outputs": [],
   "source": [
    "# Timezone\n",
    "show_fig('timezone')"
   ]
  },
  {
   "cell_type": "markdown",
   "id": "6b3c417f",
   "metadata": {},
   "source": [
    "### - Trends of year , season, Month , Day of month , Day name and Hour "
   ]
  },
  {
   "cell_type": "code",
   "execution_count": 37,
   "id": "0a58cdb6",
   "metadata": {},
   "outputs": [],
   "source": [
    "# function to check trends time \n",
    "\n",
    "\n",
    "def time_fig(col):\n",
    "\n",
    "    time_trends = df[col].value_counts().sort_index()\n",
    "    time_trends = pd.DataFrame(time_trends).reset_index()\n",
    "    time_trends.columns = [col, 'count']  \n",
    "\n",
    "    # Create subplots\n",
    "    fig = make_subplots(rows=1, cols=2, specs=[[{'type': 'pie'}, {'type': 'bar'}]])\n",
    "\n",
    "    # Add pie chart trace\n",
    "    pie_trace = px.pie(time_trends, names=col, values='count', color_discrete_sequence=px.colors.sequential.deep).data[0]\n",
    "    fig.add_trace(pie_trace, row=1, col=1)\n",
    "\n",
    "    # Add bar chart trace\n",
    "    bar_trace = px.bar(time_trends, x=col, y='count', color_discrete_sequence=px.colors.sequential.deep).data[0]\n",
    "    fig.add_trace(bar_trace, row=1, col=2)\n",
    "\n",
    "    # Update layout\n",
    "    fig.update_layout(\n",
    "        height=600,\n",
    "        width=1000,\n",
    "        title_text=f\"Distribution of {col}\",\n",
    "        title_x=0.5\n",
    "    )\n",
    "\n",
    "    # Show the figure\n",
    "    fig.show()"
   ]
  },
  {
   "cell_type": "code",
   "execution_count": null,
   "id": "9e9575bc",
   "metadata": {},
   "outputs": [],
   "source": [
    "# Incidents by year\n",
    "time_fig('year')"
   ]
  },
  {
   "cell_type": "code",
   "execution_count": null,
   "id": "1954e11d",
   "metadata": {},
   "outputs": [],
   "source": [
    "# Incidents by season\n",
    "time_fig('season')"
   ]
  },
  {
   "cell_type": "code",
   "execution_count": null,
   "id": "0cf335a5",
   "metadata": {},
   "outputs": [],
   "source": [
    "# Incidents by month\n",
    "time_fig('month')"
   ]
  },
  {
   "cell_type": "code",
   "execution_count": null,
   "id": "dc86aa3c",
   "metadata": {},
   "outputs": [],
   "source": [
    "# Incidents by day_name\n",
    "time_fig(\"day_name\")\n"
   ]
  },
  {
   "cell_type": "code",
   "execution_count": null,
   "id": "7512259b",
   "metadata": {},
   "outputs": [],
   "source": [
    "# Incidents by hour\n",
    "time_fig(\"hour\")\n"
   ]
  },
  {
   "cell_type": "markdown",
   "id": "e17eb04d",
   "metadata": {},
   "source": [
    "### -Compare incidents during different 'sunrise_sunset' phases or 'twilight' categories."
   ]
  },
  {
   "cell_type": "code",
   "execution_count": null,
   "id": "f8a65965",
   "metadata": {},
   "outputs": [],
   "source": [
    "# Incidents by sunrise_sunset phase\n",
    "sunrise_sunset_trends = df['sunrise_sunset'].value_counts().reset_index()\n",
    "px.bar(sunrise_sunset_trends,x='sunrise_sunset',y = 'count',barmode=\"group\", title= 'sunrise_sunset_trends',\n",
    "       color_discrete_sequence=px.colors.sequential.deep)"
   ]
  },
  {
   "cell_type": "code",
   "execution_count": null,
   "id": "9050bc32",
   "metadata": {},
   "outputs": [],
   "source": [
    "# Incidents by twilight categories\n",
    "twilight_trends = df[['civil_twilight', 'nautical_twilight', 'astronomical_twilight']].melt()\n",
    "twilight_counts = twilight_trends['value'].value_counts().reset_index()\n",
    "px.bar(twilight_counts,x='value',y = 'count',barmode=\"group\", title= 'twilight_counts',\n",
    "       color_discrete_sequence=px.colors.sequential.deep)\n"
   ]
  },
  {
   "cell_type": "markdown",
   "id": "f43fcf90",
   "metadata": {},
   "source": [
    "### - Road Features"
   ]
  },
  {
   "cell_type": "code",
   "execution_count": null,
   "id": "215f4fc2",
   "metadata": {},
   "outputs": [],
   "source": [
    "df_bool = df.select_dtypes(include='bool')\n",
    "df_bool.head()"
   ]
  },
  {
   "cell_type": "code",
   "execution_count": null,
   "id": "09b732c3",
   "metadata": {},
   "outputs": [],
   "source": [
    "# sum the occurrences of each feature\n",
    "bump_sum = df['bump'].sum()\n",
    "crossing_sum = df['crossing'].sum()\n",
    "give_way_sum = df['give_way'].sum()\n",
    "junction_sum = df['junction'].sum()\n",
    "no_exit_sum = df['no_exit'].sum()\n",
    "railway_sum = df['railway'].sum()\n",
    "roundabout_sum = df['roundabout'].sum()\n",
    "station_sum = df['station'].sum()\n",
    "stop_sum = df['stop'].sum()\n",
    "traffic_calming_sum = df['traffic_calming'].sum()\n",
    "traffic_signal_sum = df['traffic_signal'].sum()\n",
    "turning_loop_sum = df['turning_loop'].sum()\n",
    "\n",
    "# Create a dictionary to store the sums\n",
    "d = {\"columns\":['bump','crossing','give_way','junction','no_exit','railway','roundabout','station','stop','traffic_calming'\n",
    "                ,'traffic_signal','turning_loop'],\n",
    "     \"sum\" : [bump_sum,crossing_sum,give_way_sum,junction_sum,no_exit_sum,railway_sum,roundabout_sum,station_sum,stop_sum,traffic_calming_sum\n",
    "              ,traffic_signal_sum,turning_loop_sum]\n",
    "\n",
    "}\n",
    "\n",
    "road_df = pd.DataFrame(data=d).reset_index()\n",
    "\n",
    "# Create subplots\n",
    "fig = make_subplots(rows=1, cols=2, specs=[[{'type': 'pie'}, {'type': 'histogram'}]])\n",
    "\n",
    "# Add pie chart trace\n",
    "pie_trace = px.pie(road_df, names='columns', values='sum', color_discrete_sequence=px.colors.sequential.deep).data[0]\n",
    "fig.add_trace(pie_trace, row=1, col=1)\n",
    "\n",
    "# Add histogram chart trace\n",
    "histogram_trace = px.histogram(road_df, x='columns', y='sum', color_discrete_sequence=px.colors.sequential.deep).data[0]\n",
    "fig.add_trace(histogram_trace, row=1, col=2)\n",
    "\n",
    "# Update layout\n",
    "fig.update_layout(\n",
    "        height=600,\n",
    "        width=1400,\n",
    "        title_text=f\"Distribution of road features\",\n",
    "        title_x=0.5\n",
    "    )\n",
    "\n",
    "# Show the figure\n",
    "fig.show()\n"
   ]
  },
  {
   "cell_type": "code",
   "execution_count": null,
   "id": "51e8dbfa",
   "metadata": {},
   "outputs": [],
   "source": [
    "# Distribution Severity levels.\n",
    "px.histogram(df,x = 'severity',title='Distribution Severity levels',\n",
    "             color_discrete_sequence= px.colors.sequential.deep)"
   ]
  },
  {
   "cell_type": "code",
   "execution_count": null,
   "id": "e21b8891",
   "metadata": {},
   "outputs": [],
   "source": [
    "show_fig('weather_condition')"
   ]
  },
  {
   "cell_type": "markdown",
   "id": "33a22c5d",
   "metadata": {},
   "source": [
    "## 2- Bi/multi-variate Analysis "
   ]
  },
  {
   "cell_type": "markdown",
   "id": "ed2deef5",
   "metadata": {},
   "source": [
    "### - Distribution Severity levels."
   ]
  },
  {
   "cell_type": "code",
   "execution_count": null,
   "id": "1c5a2d2c",
   "metadata": {},
   "outputs": [],
   "source": [
    "# corr of severity and 'temperature(f)','humidity(%)', 'pressure(in)', 'wind_speed(mph)','severity'\n",
    "df_weather = df[['temperature(f)','humidity(%)', 'pressure(in)', 'wind_speed(mph)','severity']]\n",
    "px.imshow(df_weather.corr()\n",
    "                   ,color_continuous_scale=px.colors.sequential.deep)\n"
   ]
  },
  {
   "cell_type": "code",
   "execution_count": 50,
   "id": "f7208371",
   "metadata": {},
   "outputs": [],
   "source": [
    "# function to show top of 4 severity\n",
    "def severity_analysis(col):\n",
    "    data_accident = df.groupby([col,'severity']).agg({'severity':'count'})\n",
    "    data_accident.reset_index(level = col , inplace = True )\n",
    "    data_accident.index = data_accident.index.rename(\"new_data\")\n",
    "    data_accident.reset_index(inplace = True)\n",
    "    data_accident.columns = [\"severity\",col,'count_of_severity']\n",
    "    \n",
    "    fig = px.scatter(data_accident,y='count_of_severity', x= col\n",
    "                        ,color='severity',title=f'Correlation of {col} and severity',)\n",
    "    fig.show()\n",
    "\n"
   ]
  },
  {
   "cell_type": "code",
   "execution_count": null,
   "id": "63cd06d1",
   "metadata": {},
   "outputs": [],
   "source": [
    "#'humidity(%)'\n",
    "severity_analysis('humidity(%)')"
   ]
  },
  {
   "cell_type": "code",
   "execution_count": 52,
   "id": "4a87a728",
   "metadata": {},
   "outputs": [],
   "source": [
    "# Show the rate of change of accidents over the years and region\n",
    "def severity_line(col,value):\n",
    "# make subset of select column and value in column\n",
    "    data_accident = df.groupby([col, 'severity', 'year']).size().reset_index(name='count_of_severity')\n",
    "\n",
    "# Rename columns for clarity\n",
    "    data_accident.columns = [col, 'severity', 'year', 'count_of_severity']\n",
    "    data_accident = data_accident[data_accident[col] == value].sort_values(by = 'year')\n",
    "    # line plot \n",
    "    fig = px.line(data_accident, y = 'count_of_severity',x = 'year',color = 'severity')\n",
    "    fig.show()"
   ]
  },
  {
   "cell_type": "code",
   "execution_count": null,
   "id": "d590a61e",
   "metadata": {},
   "outputs": [],
   "source": [
    "# state\n",
    "severity_line(\"state\",'CA')"
   ]
  },
  {
   "cell_type": "code",
   "execution_count": null,
   "id": "eb483651",
   "metadata": {},
   "outputs": [],
   "source": [
    "# county\n",
    "severity_line(\"county\",'Los Angeles')"
   ]
  },
  {
   "cell_type": "code",
   "execution_count": null,
   "id": "4569d458",
   "metadata": {},
   "outputs": [],
   "source": [
    "# street\n",
    "severity_line('street','I-95 S')"
   ]
  },
  {
   "cell_type": "code",
   "execution_count": null,
   "id": "42c60faf",
   "metadata": {},
   "outputs": [],
   "source": [
    "severity_line('timezone','US/Eastern')"
   ]
  },
  {
   "cell_type": "code",
   "execution_count": null,
   "id": "f58729d9",
   "metadata": {},
   "outputs": [],
   "source": [
    "# Hour\n",
    "df_hs = df.groupby(['hour','severity']).agg({'severity':'count'})\n",
    "df_hs.reset_index(level = 'hour', inplace = True )\n",
    "df_hs.index = df_hs.index.rename(\"new_severity\")\n",
    "df_hs.reset_index(inplace = True)\n",
    "df_hs.columns = ['severity','hour','count_of_severity']\n",
    "px.bar(df_hs[df_hs['severity']==4] ,x = 'hour',y = 'count_of_severity',\n",
    "       color='severity',barmode=\"group\",\n",
    "       color_continuous_scale = px.colors.sequential.deep)"
   ]
  },
  {
   "cell_type": "code",
   "execution_count": 58,
   "id": "a671fb2b",
   "metadata": {},
   "outputs": [],
   "source": [
    "# insights\n",
    "# Top State of accident is CA = 510.564K\n",
    "# Top City of accidents is Houston = 74.991K\n",
    "# Top street of accident is I-5 N = 28.273K\n",
    "# Top county of accidents is Los Angeles = 173.195K\n",
    "# Top Timezone of accident is US/Eastern\n",
    "# Top year of accidents is 2019 \n",
    "# Accidents are increasing every year.\n",
    "# Top season of accidents is Autumn = 719.795K\n",
    "# The number of accidents is close every day of the month except for the 31st, which is slightly less.\n",
    "# The number of accidents is close every day of the week except for two weekends.\n",
    "# The accidents in weekend saturday and sunday = 142.979 + 126.797 = 269.716 K \n",
    "# Top day in the week has accidents is tuesday = 445.602\n",
    "# The top hours of accidents are 7 and 8 = 238.465K and 243.991K\n",
    "# The largest number of accidents at the beginning of working hours\n",
    "# There are many accidents at sunrise.\n",
    "# There are many accidents at twilight in day .\n",
    "# Top 3 reasons of accidents are traffic_signal ,crossing and junction\n",
    "# Severity levels 2 = 1.652M Top count\n",
    "# Severity levels 4 = 74K\n",
    "# Most accidents occur in clear weather.\n",
    "# There is no strong Correlation between temperature and severity\n",
    "# There is a good Correlation between humidity and severity.\n",
    "# Accidents are Increasing by years in I-95 S street\n",
    "# Accident with severity = 4 are decreasing by year\n",
    "# the highest county had 4 severiy is Los Angeles = 1857\n",
    "# the highest state had 4 severiy is FL = 6459\n",
    "# the highest street had 4 severiy is I-95 S = 1018\n",
    "# the highest hour had 4 severity is 17"
   ]
  }
 ],
 "metadata": {
  "kernelspec": {
   "display_name": "Python 3 (ipykernel)",
   "language": "python",
   "name": "python3"
  },
  "language_info": {
   "codemirror_mode": {
    "name": "ipython",
    "version": 3
   },
   "file_extension": ".py",
   "mimetype": "text/x-python",
   "name": "python",
   "nbconvert_exporter": "python",
   "pygments_lexer": "ipython3",
   "version": "3.13.1"
  }
 },
 "nbformat": 4,
 "nbformat_minor": 5
}
